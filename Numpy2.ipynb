{
  "nbformat": 4,
  "nbformat_minor": 0,
  "metadata": {
    "colab": {
      "provenance": [],
      "authorship_tag": "ABX9TyOqcC8JPq36ijjaTBXTU8Np",
      "include_colab_link": true
    },
    "kernelspec": {
      "name": "python3",
      "display_name": "Python 3"
    },
    "language_info": {
      "name": "python"
    }
  },
  "cells": [
    {
      "cell_type": "markdown",
      "metadata": {
        "id": "view-in-github",
        "colab_type": "text"
      },
      "source": [
        "<a href=\"https://colab.research.google.com/github/sakshi2215/Machine_learning/blob/main/Numpy2.ipynb\" target=\"_parent\"><img src=\"https://colab.research.google.com/assets/colab-badge.svg\" alt=\"Open In Colab\"/></a>"
      ]
    },
    {
      "cell_type": "markdown",
      "source": [
        "**Broadcastic in Numpy**"
      ],
      "metadata": {
        "id": "kQcnk6dVtTvp"
      }
    },
    {
      "cell_type": "code",
      "execution_count": 1,
      "metadata": {
        "colab": {
          "base_uri": "https://localhost:8080/",
          "height": 217
        },
        "id": "ewqT7P0-tLXd",
        "outputId": "97504e25-4b65-46a7-d3d5-a319be387304"
      },
      "outputs": [
        {
          "output_type": "error",
          "ename": "ValueError",
          "evalue": "operands could not be broadcast together with shapes (4,) (3,) ",
          "traceback": [
            "\u001b[0;31m---------------------------------------------------------------------------\u001b[0m",
            "\u001b[0;31mValueError\u001b[0m                                Traceback (most recent call last)",
            "\u001b[0;32m<ipython-input-1-50cb7b0b945b>\u001b[0m in \u001b[0;36m<cell line: 4>\u001b[0;34m()\u001b[0m\n\u001b[1;32m      2\u001b[0m \u001b[0mvar1\u001b[0m \u001b[0;34m=\u001b[0m \u001b[0mnp\u001b[0m\u001b[0;34m.\u001b[0m\u001b[0marray\u001b[0m\u001b[0;34m(\u001b[0m\u001b[0;34m[\u001b[0m\u001b[0;36m1\u001b[0m\u001b[0;34m,\u001b[0m\u001b[0;36m2\u001b[0m\u001b[0;34m,\u001b[0m\u001b[0;36m3\u001b[0m\u001b[0;34m,\u001b[0m\u001b[0;36m4\u001b[0m\u001b[0;34m]\u001b[0m\u001b[0;34m)\u001b[0m\u001b[0;34m\u001b[0m\u001b[0;34m\u001b[0m\u001b[0m\n\u001b[1;32m      3\u001b[0m \u001b[0mvar2\u001b[0m \u001b[0;34m=\u001b[0m \u001b[0mnp\u001b[0m\u001b[0;34m.\u001b[0m\u001b[0marray\u001b[0m\u001b[0;34m(\u001b[0m\u001b[0;34m[\u001b[0m\u001b[0;36m1\u001b[0m\u001b[0;34m,\u001b[0m\u001b[0;36m2\u001b[0m\u001b[0;34m,\u001b[0m\u001b[0;36m3\u001b[0m\u001b[0;34m]\u001b[0m\u001b[0;34m)\u001b[0m\u001b[0;34m\u001b[0m\u001b[0;34m\u001b[0m\u001b[0m\n\u001b[0;32m----> 4\u001b[0;31m \u001b[0mprint\u001b[0m\u001b[0;34m(\u001b[0m\u001b[0mvar1\u001b[0m\u001b[0;34m+\u001b[0m\u001b[0mvar2\u001b[0m\u001b[0;34m)\u001b[0m\u001b[0;34m\u001b[0m\u001b[0;34m\u001b[0m\u001b[0m\n\u001b[0m",
            "\u001b[0;31mValueError\u001b[0m: operands could not be broadcast together with shapes (4,) (3,) "
          ]
        }
      ],
      "source": [
        "import numpy as np\n",
        "var1 = np.array([1,2,3,4])\n",
        "var2 = np.array([1,2,3])\n",
        "print(var1+var2)"
      ]
    },
    {
      "cell_type": "code",
      "source": [
        "num1= np.array([1,2,3])\n",
        "num2=np.array([[1],[2],[3]])\n",
        "print(num1.shape)\n",
        "print(num1)\n",
        "print()\n",
        "print(num2.shape)\n",
        "print(num2)\n",
        "print()\n",
        "print(num1+num2) #broadcasting"
      ],
      "metadata": {
        "colab": {
          "base_uri": "https://localhost:8080/"
        },
        "id": "I3ngQQJEwIZk",
        "outputId": "b34794dc-18db-4626-a940-4a9666971f3e"
      },
      "execution_count": 4,
      "outputs": [
        {
          "output_type": "stream",
          "name": "stdout",
          "text": [
            "(3,)\n",
            "[1 2 3]\n",
            "\n",
            "(3, 1)\n",
            "[[1]\n",
            " [2]\n",
            " [3]]\n",
            "\n",
            "[[2 3 4]\n",
            " [3 4 5]\n",
            " [4 5 6]]\n"
          ]
        }
      ]
    },
    {
      "cell_type": "code",
      "source": [
        "# Create a 2x1 array\n",
        "arr_a = np.array([[1],\n",
        "                  [2]])\n",
        "\n",
        "# Create a 2x3 array\n",
        "arr_b = np.array([[10, 20, 30],\n",
        "                  [40, 50, 60]])\n",
        "\n",
        "# Broadcasting: Add arr_a to each column of arr_b\n",
        "result = arr_a + arr_b\n",
        "\n",
        "print(result)   # Here, arr_a 2x1 and arr_b is 2x3 then, max of(2,2)=2 and max(1,3)=3\n",
        "                #we move from left to right then result array is of dimension 3x2"
      ],
      "metadata": {
        "colab": {
          "base_uri": "https://localhost:8080/"
        },
        "id": "GnUOBeFXxI1o",
        "outputId": "bd12be47-63f4-4008-d3b8-054d4cfa05af"
      },
      "execution_count": 5,
      "outputs": [
        {
          "output_type": "stream",
          "name": "stdout",
          "text": [
            "[[11 21 31]\n",
            " [42 52 62]]\n"
          ]
        }
      ]
    },
    {
      "cell_type": "markdown",
      "source": [
        "**Iterate Numpy Array** -- using nditer() function\n"
      ],
      "metadata": {
        "id": "70QFZdIbx0vH"
      }
    },
    {
      "cell_type": "code",
      "source": [
        "# Create a 2x3 array\n",
        "arr = np.array([[1, 2, 3],\n",
        "                [4, 5, 6]])\n",
        "\n",
        "# Using nditer to iterate over the elements\n",
        "with np.nditer(arr, flags=['multi_index'], op_flags=['readwrite']) as it:\n",
        "    for x in it:\n",
        "        print(f\"Element at {it.multi_index} is {x}\")\n",
        "\n",
        "# Alternatively, you can use nditer with a traditional for loop\n",
        "for x in np.nditer(arr):\n",
        "    print(x)"
      ],
      "metadata": {
        "colab": {
          "base_uri": "https://localhost:8080/"
        },
        "id": "98MI7qo_x55x",
        "outputId": "c054da22-5301-42b9-e5c8-71b399593cbe"
      },
      "execution_count": 2,
      "outputs": [
        {
          "output_type": "stream",
          "name": "stdout",
          "text": [
            "Element at (0, 0) is 1\n",
            "Element at (0, 1) is 2\n",
            "Element at (0, 2) is 3\n",
            "Element at (1, 0) is 4\n",
            "Element at (1, 1) is 5\n",
            "Element at (1, 2) is 6\n",
            "1\n",
            "2\n",
            "3\n",
            "4\n",
            "5\n",
            "6\n"
          ]
        }
      ]
    },
    {
      "cell_type": "markdown",
      "source": [
        "**copy vs view in numpy array**"
      ],
      "metadata": {
        "id": "vGxcWW8YS2jN"
      }
    },
    {
      "cell_type": "code",
      "source": [
        "\n",
        "# Copy:\n",
        "\n",
        "# When you create a copy of an array, you get a new array with its own data.\n",
        "# Changes made to the copy do not affect the original array, and vice versa.\n",
        "# You explicitly use the copy() method to create a copy of the array.\n",
        "arr = np.array([1, 2, 3])\n",
        "arr_copy = arr.copy()\n",
        "\n",
        "arr_copy[0] = 100\n",
        "\n",
        "print(arr)       # Output: [1 2 3]\n",
        "print(arr_copy)  # Output: [100 2 3]"
      ],
      "metadata": {
        "colab": {
          "base_uri": "https://localhost:8080/"
        },
        "id": "e_cM8qGVS_eB",
        "outputId": "ec36be13-8cef-46bd-ef9c-21e52187ec0e"
      },
      "execution_count": 3,
      "outputs": [
        {
          "output_type": "stream",
          "name": "stdout",
          "text": [
            "[1 2 3]\n",
            "[100   2   3]\n"
          ]
        }
      ]
    },
    {
      "cell_type": "code",
      "source": [
        "# View:\n",
        "\n",
        "# When you create a view of an array, you get a different way of looking at the same data.\n",
        "# Changes made to the view affect the original array, and vice versa.\n",
        "# # Views are created using slicing or using the view() method.\n",
        "arr = np.array([1, 2, 3])\n",
        "arr_view = arr[1:]\n",
        "\n",
        "arr_view[0] = 200\n",
        "\n",
        "print(arr)      # Output: [1 200 3]\n",
        "print(arr_view) # Output: [200 3]"
      ],
      "metadata": {
        "colab": {
          "base_uri": "https://localhost:8080/"
        },
        "id": "-7GSJYCDS_Mo",
        "outputId": "23b71549-4a11-4cca-f762-7f84ea7976d6"
      },
      "execution_count": 4,
      "outputs": [
        {
          "output_type": "stream",
          "name": "stdout",
          "text": [
            "[  1 200   3]\n",
            "[200   3]\n"
          ]
        }
      ]
    },
    {
      "cell_type": "markdown",
      "source": [
        "**Join and Split in array**---numpy.concatenate, numpy.stack, and numpy.split functions are commonly used for joining and splitting arrays."
      ],
      "metadata": {
        "id": "LRgdhPCUTzi1"
      }
    },
    {
      "cell_type": "markdown",
      "source": [
        "**Numpy array Function**-- Search, sort, search sorted, filter"
      ],
      "metadata": {
        "id": "nh7t4M27UG9g"
      }
    },
    {
      "cell_type": "code",
      "source": [
        "# Create a NumPy array\n",
        "arr = np.array([4, 2, 7, 1, 9, 5])\n",
        "\n",
        "# Search for the index where the value 7 should be inserted to maintain sorted order\n",
        "search_result = np.searchsorted(arr, 7)\n",
        "\n",
        "# Sort the array\n",
        "sorted_arr = np.sort(arr)\n",
        "\n",
        "# Filter elements greater than 4\n",
        "filtered_arr = arr[arr > 4]\n",
        "\n",
        "# Print the results\n",
        "print(\"Original Array:\", arr)\n",
        "print(\"Index to Insert 7:\", search_result)\n",
        "print(\"Sorted Array:\", sorted_arr)\n",
        "print(\"Filtered Array (Elements > 4):\", filtered_arr)\n",
        "# where in array"
      ],
      "metadata": {
        "colab": {
          "base_uri": "https://localhost:8080/"
        },
        "id": "1QNzQ0WNUdws",
        "outputId": "e8ea4675-97b5-4e9c-c16c-66b4bcc5afb8"
      },
      "execution_count": 5,
      "outputs": [
        {
          "output_type": "stream",
          "name": "stdout",
          "text": [
            "Original Array: [4 2 7 1 9 5]\n",
            "Index to Insert 7: 6\n",
            "Sorted Array: [1 2 4 5 7 9]\n",
            "Filtered Array (Elements > 4): [7 9 5]\n"
          ]
        }
      ]
    },
    {
      "cell_type": "markdown",
      "source": [
        "**Insert and Delete Function in numpy array**"
      ],
      "metadata": {
        "id": "xPhbIbHWVTdZ"
      }
    },
    {
      "cell_type": "code",
      "source": [],
      "metadata": {
        "id": "VFoCrg5dVSh9"
      },
      "execution_count": null,
      "outputs": []
    }
  ]
}