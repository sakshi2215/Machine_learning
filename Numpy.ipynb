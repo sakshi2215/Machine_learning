{
  "nbformat": 4,
  "nbformat_minor": 0,
  "metadata": {
    "colab": {
      "provenance": [],
      "authorship_tag": "ABX9TyOxHwQEof++wDQT5X2QWGBB",
      "include_colab_link": true
    },
    "kernelspec": {
      "name": "python3",
      "display_name": "Python 3"
    },
    "language_info": {
      "name": "python"
    }
  },
  "cells": [
    {
      "cell_type": "markdown",
      "metadata": {
        "id": "view-in-github",
        "colab_type": "text"
      },
      "source": [
        "<a href=\"https://colab.research.google.com/github/sakshi2215/Machine_learning/blob/main/Numpy.ipynb\" target=\"_parent\"><img src=\"https://colab.research.google.com/assets/colab-badge.svg\" alt=\"Open In Colab\"/></a>"
      ]
    },
    {
      "cell_type": "markdown",
      "source": [
        "**Numpy**- Numerical Python, for scientific calculation .\n",
        "\n",
        "1.   Python library that provides a multidimensional array object, various derived Objects.\n",
        "2.   It contains information about the raw data, how to locate an element, and how to interpret an element.\n",
        "\n",
        "\n"
      ],
      "metadata": {
        "id": "EcQ24KWD_LR8"
      }
    },
    {
      "cell_type": "markdown",
      "source": [
        "**Advantages of list**consumes less memory, fast as compared to list and convenient to use.\n",
        "**Uses**- mathematical, logical, shape manipulation, sorting, selecting,I/O, discrete fourier transformations, basic linear algebra"
      ],
      "metadata": {
        "id": "_qGouwPQD3V5"
      }
    },
    {
      "cell_type": "code",
      "execution_count": 1,
      "metadata": {
        "id": "a1EEKWhV-_qC"
      },
      "outputs": [],
      "source": [
        "import numpy as np"
      ]
    },
    {
      "cell_type": "code",
      "source": [
        "x= np.array([1,2,3,4])\n",
        "print (x)\n",
        "print(type(x))"
      ],
      "metadata": {
        "colab": {
          "base_uri": "https://localhost:8080/"
        },
        "id": "RNXIskYpMNTg",
        "outputId": "f713cc25-55aa-4d61-efda-fa5c4f2f1304"
      },
      "execution_count": 4,
      "outputs": [
        {
          "output_type": "stream",
          "name": "stdout",
          "text": [
            "[1 2 3 4]\n",
            "<class 'numpy.ndarray'>\n"
          ]
        }
      ]
    },
    {
      "cell_type": "code",
      "source": [
        "y=[1,2,3,4]\n",
        "print(y)\n",
        "print(type(y))"
      ],
      "metadata": {
        "colab": {
          "base_uri": "https://localhost:8080/"
        },
        "id": "Ogne2Zl7_JgQ",
        "outputId": "739485b9-9ce4-4bec-e377-23757c53a10c"
      },
      "execution_count": 5,
      "outputs": [
        {
          "output_type": "stream",
          "name": "stdout",
          "text": [
            "[1, 2, 3, 4]\n",
            "<class 'list'>\n"
          ]
        }
      ]
    },
    {
      "cell_type": "code",
      "source": [
        "%timeit [j**4 for j in range(1,9)]"
      ],
      "metadata": {
        "colab": {
          "base_uri": "https://localhost:8080/"
        },
        "id": "KTVs0Isu_JjB",
        "outputId": "1515a50c-6d59-4c53-c819-ff146be69d8f"
      },
      "execution_count": 6,
      "outputs": [
        {
          "output_type": "stream",
          "name": "stdout",
          "text": [
            "3.51 µs ± 865 ns per loop (mean ± std. dev. of 7 runs, 100000 loops each)\n"
          ]
        }
      ]
    },
    {
      "cell_type": "code",
      "source": [
        "%timeit np.arange(1,9)**4"
      ],
      "metadata": {
        "colab": {
          "base_uri": "https://localhost:8080/"
        },
        "id": "lkEa1EOa_Jl-",
        "outputId": "068cb66e-39fa-4b90-ef55-67f16256eeeb"
      },
      "execution_count": 8,
      "outputs": [
        {
          "output_type": "stream",
          "name": "stdout",
          "text": [
            "3.95 µs ± 939 ns per loop (mean ± std. dev. of 7 runs, 100000 loops each)\n"
          ]
        }
      ]
    },
    {
      "cell_type": "code",
      "source": [
        "l=[]\n",
        "for i in range(1,5):\n",
        "  int_l= int(input(\"enter :\"))\n",
        "  l.append(int_l)\n",
        "print(np.array(l))"
      ],
      "metadata": {
        "colab": {
          "base_uri": "https://localhost:8080/"
        },
        "id": "uLe--gyG_JoZ",
        "outputId": "4c9675ae-806b-447a-89f1-0570a01ece33"
      },
      "execution_count": 10,
      "outputs": [
        {
          "output_type": "stream",
          "name": "stdout",
          "text": [
            "enter :34\n",
            "enter :56\n",
            "enter :67\n",
            "enter :56\n",
            "[34 56 67 56]\n"
          ]
        }
      ]
    },
    {
      "cell_type": "markdown",
      "source": [
        "**Zero**"
      ],
      "metadata": {
        "id": "2ifLt6RWQu8q"
      }
    },
    {
      "cell_type": "code",
      "source": [
        "arr_zero = np.zeros(4)\n",
        "print(arr_zero)\n",
        "arr1_zero= np.zeros((3,4))\n",
        "print(arr1_zero)"
      ],
      "metadata": {
        "colab": {
          "base_uri": "https://localhost:8080/"
        },
        "id": "v9c10ODm_JrG",
        "outputId": "9d5c7eef-fa4d-48d7-bc40-3bb1085b6d8d"
      },
      "execution_count": 14,
      "outputs": [
        {
          "output_type": "stream",
          "name": "stdout",
          "text": [
            "[0. 0. 0. 0.]\n",
            "[[0. 0. 0. 0.]\n",
            " [0. 0. 0. 0.]\n",
            " [0. 0. 0. 0.]]\n"
          ]
        }
      ]
    },
    {
      "cell_type": "markdown",
      "source": [
        "**Ones** **array**"
      ],
      "metadata": {
        "id": "mI4hRCeCRdae"
      }
    },
    {
      "cell_type": "code",
      "source": [
        "arr_one = np.ones(4)\n",
        "print(arr_one)"
      ],
      "metadata": {
        "colab": {
          "base_uri": "https://localhost:8080/"
        },
        "id": "HgCjydiu_Jtb",
        "outputId": "40584f2a-d2d5-4ed1-c3c6-b376c84871f9"
      },
      "execution_count": 15,
      "outputs": [
        {
          "output_type": "stream",
          "name": "stdout",
          "text": [
            "[1. 1. 1. 1.]\n"
          ]
        }
      ]
    },
    {
      "cell_type": "markdown",
      "source": [
        "**Empty Array**   **np.eye() *function* for diagonal array- Identity**"
      ],
      "metadata": {
        "id": "BfIiPGiCRwEA"
      }
    },
    {
      "cell_type": "code",
      "source": [
        "arr_empty= np.empty(4)\n",
        "print(arr_empty)"
      ],
      "metadata": {
        "colab": {
          "base_uri": "https://localhost:8080/"
        },
        "id": "gLEz3wll_Jv8",
        "outputId": "764bf571-39ad-4cd8-a42e-36821927af98"
      },
      "execution_count": 17,
      "outputs": [
        {
          "output_type": "stream",
          "name": "stdout",
          "text": [
            "[1. 1. 1. 1.]\n"
          ]
        }
      ]
    },
    {
      "cell_type": "markdown",
      "source": [
        "**Linspace**"
      ],
      "metadata": {
        "id": "3V2vSOn3S5WE"
      }
    },
    {
      "cell_type": "code",
      "source": [
        "\n",
        "arr_lin = np.linspace(0,10,num=4)\n",
        "print(arr_lin)"
      ],
      "metadata": {
        "colab": {
          "base_uri": "https://localhost:8080/"
        },
        "id": "MjEXTQnR_Jze",
        "outputId": "32d6b2bf-4e03-486e-9f77-aff5811f317c"
      },
      "execution_count": 20,
      "outputs": [
        {
          "output_type": "stream",
          "name": "stdout",
          "text": [
            "[ 0.          3.33333333  6.66666667 10.        ]\n"
          ]
        }
      ]
    },
    {
      "cell_type": "markdown",
      "source": [
        "\n",
        "1.   rand()\n",
        "2.   randn()\n",
        "3.   randf()\n",
        "4.   randint()\n",
        "\n"
      ],
      "metadata": {
        "id": "9AVrXIYqWwhq"
      }
    },
    {
      "cell_type": "code",
      "source": [
        "random_values = np.random.rand(3, 3)  # Generates a 3x3 array of random values between 0 and 1\n",
        "random_values"
      ],
      "metadata": {
        "colab": {
          "base_uri": "https://localhost:8080/"
        },
        "id": "C7MG9b5xXWUC",
        "outputId": "2f25f33b-60ea-4d5c-a63f-59764a0b38b8"
      },
      "execution_count": 22,
      "outputs": [
        {
          "output_type": "execute_result",
          "data": {
            "text/plain": [
              "array([[0.41494265, 0.94783303, 0.82103347],\n",
              "       [0.14970831, 0.74392013, 0.38023105],\n",
              "       [0.67344896, 0.16539457, 0.56587428]])"
            ]
          },
          "metadata": {},
          "execution_count": 22
        }
      ]
    },
    {
      "cell_type": "code",
      "source": [
        "random_values = np.random.randn(3, 3)  # Generates a 3x3 array of random values from a standard normal distribution\n",
        "random_values"
      ],
      "metadata": {
        "colab": {
          "base_uri": "https://localhost:8080/"
        },
        "id": "7mMMDEKVXko0",
        "outputId": "26f7718b-c8d9-4873-df18-a62952fd33f9"
      },
      "execution_count": 23,
      "outputs": [
        {
          "output_type": "execute_result",
          "data": {
            "text/plain": [
              "array([[ 0.68249471, -1.46848663, -0.13554769],\n",
              "       [ 0.04087463,  0.48003719,  1.15062141],\n",
              "       [-1.74024757,  0.76382303, -0.30889517]])"
            ]
          },
          "metadata": {},
          "execution_count": 23
        }
      ]
    },
    {
      "cell_type": "code",
      "source": [
        "random_integer = np.random.randint(1, 10,7)  # Generates a random integer between 1 (inclusive) and 10 (exclusive)\n",
        "random_integer"
      ],
      "metadata": {
        "colab": {
          "base_uri": "https://localhost:8080/"
        },
        "id": "lNdswYv-Xw1P",
        "outputId": "a0cf393d-3256-45a8-ac42-470f04135884"
      },
      "execution_count": 25,
      "outputs": [
        {
          "output_type": "execute_result",
          "data": {
            "text/plain": [
              "array([1, 9, 4, 7, 2, 5, 2])"
            ]
          },
          "metadata": {},
          "execution_count": 25
        }
      ]
    },
    {
      "cell_type": "markdown",
      "source": [
        "**dtype**"
      ],
      "metadata": {
        "id": "qLq1LMnXYyBy"
      }
    },
    {
      "cell_type": "markdown",
      "source": [
        "**Arithmatic Operation in Numpy**"
      ],
      "metadata": {
        "id": "Y5ixWvekZT2c"
      }
    },
    {
      "cell_type": "code",
      "source": [
        "import numpy as np\n",
        "\n",
        "# Create two arrays for demonstration\n",
        "array1 = np.array([[1, 2], [3, 4]])\n",
        "array2 = np.array([[5, 6], [7, 8]])\n",
        "\n",
        "# Addition\n",
        "result_addition = np.add(array1, array2)\n",
        "\n",
        "# Subtraction\n",
        "result_subtraction = np.subtract(array1, array2)\n",
        "\n",
        "# Multiplication (element-wise)\n",
        "result_multiplication = np.multiply(array1, array2)\n",
        "\n",
        "# Division (element-wise)\n",
        "result_division = np.divide(array1, array2)\n",
        "\n",
        "# Matrix multiplication (dot product)\n",
        "result_matrix_multiplication = np.dot(array1, array2)\n",
        "\n",
        "# Transposition\n",
        "transposed_array1 = np.transpose(array1)\n",
        "\n",
        "# Element-wise square root\n",
        "result_sqrt = np.sqrt(array1)\n",
        "\n",
        "# Element-wise power\n",
        "result_power = np.power(array1, 2)\n",
        "\n",
        "# Element-wise absolute value\n",
        "result_absolute = np.abs(array1)\n",
        "\n",
        "# Sum along a specific axis\n",
        "sum_along_axis = np.sum(array1, axis=0)\n",
        "\n",
        "# Maximum and minimum values\n",
        "max_value = np.max(array1)\n",
        "min_value = np.min(array1)\n",
        "\n",
        "# Print results\n",
        "print(\"Array 1:\\n\", array1)\n",
        "print(\"Array 2:\\n\", array2)\n",
        "print(\"Addition:\\n\", result_addition)\n",
        "print(\"Subtraction:\\n\", result_subtraction)\n",
        "print(\"Multiplication (element-wise):\\n\", result_multiplication)\n",
        "print(\"Division (element-wise):\\n\", result_division)\n",
        "print(\"Matrix Multiplication:\\n\", result_matrix_multiplication)\n",
        "print(\"Transposition:\\n\", transposed_array1)\n",
        "print(\"Element-wise Square Root:\\n\", result_sqrt)\n",
        "print(\"Element-wise Power (squared):\\n\", result_power)\n",
        "print(\"Element-wise Absolute Value:\\n\", result_absolute)\n",
        "print(\"Sum along axis 0:\\n\", sum_along_axis)\n",
        "print(\"Maximum value:\\n\", max_value)\n",
        "print(\"Minimum value:\\n\", min_value)\n"
      ],
      "metadata": {
        "colab": {
          "base_uri": "https://localhost:8080/"
        },
        "id": "zRdmFvr7ZYb4",
        "outputId": "782d3e92-579e-4564-ce79-bc01c8adfdd8"
      },
      "execution_count": 26,
      "outputs": [
        {
          "output_type": "stream",
          "name": "stdout",
          "text": [
            "Array 1:\n",
            " [[1 2]\n",
            " [3 4]]\n",
            "Array 2:\n",
            " [[5 6]\n",
            " [7 8]]\n",
            "Addition:\n",
            " [[ 6  8]\n",
            " [10 12]]\n",
            "Subtraction:\n",
            " [[-4 -4]\n",
            " [-4 -4]]\n",
            "Multiplication (element-wise):\n",
            " [[ 5 12]\n",
            " [21 32]]\n",
            "Division (element-wise):\n",
            " [[0.2        0.33333333]\n",
            " [0.42857143 0.5       ]]\n",
            "Matrix Multiplication:\n",
            " [[19 22]\n",
            " [43 50]]\n",
            "Transposition:\n",
            " [[1 3]\n",
            " [2 4]]\n",
            "Element-wise Square Root:\n",
            " [[1.         1.41421356]\n",
            " [1.73205081 2.        ]]\n",
            "Element-wise Power (squared):\n",
            " [[ 1  4]\n",
            " [ 9 16]]\n",
            "Element-wise Absolute Value:\n",
            " [[1 2]\n",
            " [3 4]]\n",
            "Sum along axis 0:\n",
            " [4 6]\n",
            "Maximum value:\n",
            " 4\n",
            "Minimum value:\n",
            " 1\n"
          ]
        }
      ]
    },
    {
      "cell_type": "code",
      "source": [
        "\n",
        "# Create an array for demonstration\n",
        "array = np.array([1, 2, 3, 4, 5])\n",
        "\n",
        "# Cumulative sum- Calculates the cumulative sum of elements along a given axis.\n",
        "cumulative_sum = np.cumsum(array)\n",
        "\n",
        "# Element-wise square root\n",
        "square_root = np.sqrt(array)\n",
        "\n",
        "# Element-wise sine- Computes the element-wise sine of the array.\n",
        "sine_values = np.sin(array)\n",
        "\n",
        "# Element-wise cosine- Computes the element-wise cosine of the array.\n",
        "cosine_values = np.cos(array)\n",
        "\n",
        "# Print results\n",
        "print(\"Original Array:\\n\", array)\n",
        "print(\"Cumulative Sum:\\n\", cumulative_sum)\n",
        "print(\"Element-wise Square Root:\\n\", square_root)\n",
        "print(\"Element-wise Sine:\\n\", sine_values)\n",
        "print(\"Element-wise Cosine:\\n\", cosine_values)\n"
      ],
      "metadata": {
        "colab": {
          "base_uri": "https://localhost:8080/"
        },
        "id": "BNjmGm-0aKWj",
        "outputId": "4d581fdd-90c5-4250-a31b-dec8f511335a"
      },
      "execution_count": 27,
      "outputs": [
        {
          "output_type": "stream",
          "name": "stdout",
          "text": [
            "Original Array:\n",
            " [1 2 3 4 5]\n",
            "Cumulative Sum:\n",
            " [ 1  3  6 10 15]\n",
            "Element-wise Square Root:\n",
            " [1.         1.41421356 1.73205081 2.         2.23606798]\n",
            "Element-wise Sine:\n",
            " [ 0.84147098  0.90929743  0.14112001 -0.7568025  -0.95892427]\n",
            "Element-wise Cosine:\n",
            " [ 0.54030231 -0.41614684 -0.9899925  -0.65364362  0.28366219]\n"
          ]
        }
      ]
    },
    {
      "cell_type": "markdown",
      "source": [
        "**Shape and Reshaping in array**"
      ],
      "metadata": {
        "id": "UGmCPd0abfmr"
      }
    },
    {
      "cell_type": "code",
      "source": [
        "\n",
        "# Create an array\n",
        "arr = np.array([[1, 2, 3], [4, 5, 6]])\n",
        "\n",
        "# Get the shape of the array\n",
        "arr_shape = arr.shape\n",
        "\n",
        "print(\"Original Array:\\n\", arr)\n",
        "print(\"Shape of the Array:\", arr_shape)\n"
      ],
      "metadata": {
        "colab": {
          "base_uri": "https://localhost:8080/"
        },
        "id": "bsrlqUBfblO5",
        "outputId": "c6792941-7075-4183-b849-eb4daff8087b"
      },
      "execution_count": 28,
      "outputs": [
        {
          "output_type": "stream",
          "name": "stdout",
          "text": [
            "Original Array:\n",
            " [[1 2 3]\n",
            " [4 5 6]]\n",
            "Shape of the Array: (2, 3)\n"
          ]
        }
      ]
    },
    {
      "cell_type": "code",
      "source": [
        "\n",
        "# Create a 1D array\n",
        "arr_1d = np.array([1, 2, 3, 4, 5, 6])\n",
        "\n",
        "# Reshape the array to a 2D array with 2 rows and 3 columns\n",
        "arr_2d = arr_1d.reshape((2, 3))\n",
        "\n",
        "print(\"Original 1D Array:\", arr_1d)\n",
        "print(\"Reshaped 2D Array:\\n\", arr_2d)"
      ],
      "metadata": {
        "colab": {
          "base_uri": "https://localhost:8080/"
        },
        "id": "h280tRRYcMy0",
        "outputId": "52ba5b28-24bf-4c10-9186-8425b4ff259c"
      },
      "execution_count": 29,
      "outputs": [
        {
          "output_type": "stream",
          "name": "stdout",
          "text": [
            "Original 1D Array: [1 2 3 4 5 6]\n",
            "Reshaped 2D Array:\n",
            " [[1 2 3]\n",
            " [4 5 6]]\n"
          ]
        }
      ]
    },
    {
      "cell_type": "code",
      "source": [
        "# Create a 1D array with 27 elements\n",
        "arr_1d = np.array([1, 2, 3, 4, 5, 6, 7, 8, 9, 10, 11, 12, 13, 14, 15, 16, 17, 18, 19, 20, 21, 22, 23, 24, 25, 26, 27])\n",
        "\n",
        "# Reshape the 1D array into a 3D array with shape (3, 3, 3)\n",
        "arr_3d = arr_1d.reshape((3, 3, 3))\n",
        "\n",
        "print(\"Original 1D Array:\", arr_1d)\n",
        "print(\"Reshaped 3D Array:\\n\", arr_3d)\n"
      ],
      "metadata": {
        "colab": {
          "base_uri": "https://localhost:8080/"
        },
        "id": "vgWSB406c9vB",
        "outputId": "ffc87a19-8418-4696-c944-9b0c21cd7593"
      },
      "execution_count": 30,
      "outputs": [
        {
          "output_type": "stream",
          "name": "stdout",
          "text": [
            "Original 1D Array: [ 1  2  3  4  5  6  7  8  9 10 11 12 13 14 15 16 17 18 19 20 21 22 23 24\n",
            " 25 26 27]\n",
            "Reshaped 3D Array:\n",
            " [[[ 1  2  3]\n",
            "  [ 4  5  6]\n",
            "  [ 7  8  9]]\n",
            "\n",
            " [[10 11 12]\n",
            "  [13 14 15]\n",
            "  [16 17 18]]\n",
            "\n",
            " [[19 20 21]\n",
            "  [22 23 24]\n",
            "  [25 26 27]]]\n"
          ]
        }
      ]
    }
  ]
}