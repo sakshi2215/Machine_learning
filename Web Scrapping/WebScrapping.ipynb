{
  "nbformat": 4,
  "nbformat_minor": 0,
  "metadata": {
    "colab": {
      "provenance": []
    },
    "kernelspec": {
      "name": "python3",
      "display_name": "Python 3"
    },
    "language_info": {
      "name": "python"
    }
  },
  "cells": [
    {
      "cell_type": "code",
      "execution_count": 1,
      "metadata": {
        "id": "XRejXw3iACFc"
      },
      "outputs": [],
      "source": [
        "from bs4  import BeautifulSoup"
      ]
    },
    {
      "cell_type": "code",
      "source": [
        "with open('TributePage.html','r') as html_file:\n",
        "  content=html_file.read()\n",
        "  print(content)"
      ],
      "metadata": {
        "colab": {
          "base_uri": "https://localhost:8080/"
        },
        "id": "ipnrs8oUBI7e",
        "outputId": "3d4242e7-9326-44c0-a969-7226e6ca424e"
      },
      "execution_count": 2,
      "outputs": [
        {
          "output_type": "stream",
          "name": "stdout",
          "text": [
            "<!DOCTYPE html>\n",
            "<html lang=\"en\">\n",
            "\n",
            "<head>\n",
            "    <meta charset=\"UTF-8\">\n",
            "    <meta name=\"viewport\" content=\"width=device-width, initial-scale=1.0\">\n",
            "    <title>Tribute Page</title>\n",
            "    <link rel=\"stylesheet\" href=\"tributecss.css\">\n",
            "</head>\n",
            "\n",
            "<body>\n",
            "    <main id=\"main\">\n",
            "        <h1 id=\"title\">Dr. Norman Borlaug</h1>\n",
            "        <p>The man who saved a billion of lives.</p>\n",
            "        <div class=\"imgsection\">\n",
            "            <img src=\"boxer-1984344_1280.jpg\" alt=\"Dr. Norman Borlaug seen standing in Mexican wheat field with a group of biologists\"\n",
            "                srcset=\"\">\n",
            "            <figcaption id=\"imgcap\">Dr. Norman Borlaug, third from the left, trains biologists in Mexico on how to\n",
            "                increase wheat yields - part of his life-long war on hunger.</figcaption>\n",
            "        </div>\n",
            "        <div class=\"content\">\n",
            "        <h2>Here's a time line of Dr. Borlaug's life:</h2>\n",
            "        <ul>\n",
            "            <li><strong>1914</strong> - Born in Cresco, lowa</li>\n",
            "            <li><strong>1933</strong> - Leaves his family's farm to attend the University of Minnesota, thanks to a\n",
            "                Depression era program known as the \"National Youth Administration\"</li>\n",
            "            <li><strong>1935</strong> - Has to stop school and save up more money. Works in the Civilian Conservation\n",
            "                Corps, helping starving Americans. \"I saw how food changed them\", he said. \"All of this left scars on\n",
            "                me.\"</li>\n",
            "            <li><strong>1937</strong> - Finishes university and takes a job in the US Forestry Service</li>\n",
            "            <li><strong>1938</strong> - Marries wife of 69 years Margret Gibson. Gets laid off due to budget cuts.\n",
            "                Inspired by Elvin Charles Stakman, he returns to school study under Stakman, who teaches him about\n",
            "                breeding pest-resistent plants.</li>\n",
            "            <li><strong>1941</strong>- Tries to enroll in the military after the Pearl Harbor attack, but is rejected.\n",
            "                Instead, the military asked his lab to work on waterproof glue, DDT to control malaria, disinfectants,\n",
            "                and other applied science.</li>\n",
            "            <li><strong>1942</strong> - Receives a Ph.D. in Genetics and Plant Pathology</li>\n",
            "            <li><strong>1944</strong> - Rejects a 100% salary increase from Dupont, leaves behind his pregnant wife, and\n",
            "                flies to Mexico to head a new plant pathology program. Over the next 16 years, his team breeds 6,000\n",
            "                different strains of disease resistent wheat - including different varieties for each major climate on\n",
            "                Earth.</li>\n",
            "            <li><strong>1945</strong> - Discovers a way to grown wheat twice each season, doubling wheat yields</li>\n",
            "            <li><strong>1953</strong>- crosses a short, sturdy dwarf breed of wheat with a high-yeidling American breed,\n",
            "                creating a strain that responds well to fertilizer. It goes on to provide 95% of Mexico's wheat.</li>\n",
            "            <li><strong>1962</strong> - Visits Delhi and brings his high-yielding strains of wheat to the Indian\n",
            "                subcontinent in time to help mitigate mass starvation due to a rapidly expanding population</li>\n",
            "            <li><strong>1970</strong>- receives the Nobel Peace Prize</li>\n",
            "            <li><strong>1983</strong>- helps seven African countries dramatically increase their maize and sorghum\n",
            "                yields</li>\n",
            "            <li><strong>1984</strong> - becomes a distinguished professor at Texas A&M University</li>\n",
            "            <li><strong>2005</strong> - states \"we will have to double the world food supply by 2050.\" Argues that\n",
            "                genetically modified crops are the only way we can meet the demand, as we run out of arable land. Says\n",
            "                that GM crops are not inherently dangerous because \"we've been genetically modifying plants and animals\n",
            "                for a long time. Long before we called it science, people were selecting the best breeds.\"</li>\n",
            "            <li><strong>2009</strong>- dies at the age of 95.</li>\n",
            "        </ul>\n",
            "    </div>\n",
            "\n",
            "    </main>\n",
            "</body>\n",
            "\n",
            "</html>\n"
          ]
        }
      ]
    },
    {
      "cell_type": "code",
      "source": [
        "with open('TributePage.html','r') as html_file:\n",
        "  content=html_file.read()\n",
        "  soup = BeautifulSoup(content,'lxml')\n",
        "  print(soup.prettify())"
      ],
      "metadata": {
        "colab": {
          "base_uri": "https://localhost:8080/"
        },
        "id": "iRUqGRNbBx2O",
        "outputId": "f7a26706-897c-45d8-be33-67ea679c8b5d"
      },
      "execution_count": 6,
      "outputs": [
        {
          "output_type": "stream",
          "name": "stdout",
          "text": [
            "<!DOCTYPE html>\n",
            "<html lang=\"en\">\n",
            " <head>\n",
            "  <meta charset=\"utf-8\"/>\n",
            "  <meta content=\"width=device-width, initial-scale=1.0\" name=\"viewport\"/>\n",
            "  <title>\n",
            "   Tribute Page\n",
            "  </title>\n",
            "  <link href=\"tributecss.css\" rel=\"stylesheet\"/>\n",
            " </head>\n",
            " <body>\n",
            "  <main id=\"main\">\n",
            "   <h1 id=\"title\">\n",
            "    Dr. Norman Borlaug\n",
            "   </h1>\n",
            "   <p>\n",
            "    The man who saved a billion of lives.\n",
            "   </p>\n",
            "   <div class=\"imgsection\">\n",
            "    <img alt=\"Dr. Norman Borlaug seen standing in Mexican wheat field with a group of biologists\" src=\"boxer-1984344_1280.jpg\" srcset=\"\"/>\n",
            "    <figcaption id=\"imgcap\">\n",
            "     Dr. Norman Borlaug, third from the left, trains biologists in Mexico on how to\n",
            "                increase wheat yields - part of his life-long war on hunger.\n",
            "    </figcaption>\n",
            "   </div>\n",
            "   <div class=\"content\">\n",
            "    <h2>\n",
            "     Here's a time line of Dr. Borlaug's life:\n",
            "    </h2>\n",
            "    <ul>\n",
            "     <li>\n",
            "      <strong>\n",
            "       1914\n",
            "      </strong>\n",
            "      - Born in Cresco, lowa\n",
            "     </li>\n",
            "     <li>\n",
            "      <strong>\n",
            "       1933\n",
            "      </strong>\n",
            "      - Leaves his family's farm to attend the University of Minnesota, thanks to a\n",
            "                Depression era program known as the \"National Youth Administration\"\n",
            "     </li>\n",
            "     <li>\n",
            "      <strong>\n",
            "       1935\n",
            "      </strong>\n",
            "      - Has to stop school and save up more money. Works in the Civilian Conservation\n",
            "                Corps, helping starving Americans. \"I saw how food changed them\", he said. \"All of this left scars on\n",
            "                me.\"\n",
            "     </li>\n",
            "     <li>\n",
            "      <strong>\n",
            "       1937\n",
            "      </strong>\n",
            "      - Finishes university and takes a job in the US Forestry Service\n",
            "     </li>\n",
            "     <li>\n",
            "      <strong>\n",
            "       1938\n",
            "      </strong>\n",
            "      - Marries wife of 69 years Margret Gibson. Gets laid off due to budget cuts.\n",
            "                Inspired by Elvin Charles Stakman, he returns to school study under Stakman, who teaches him about\n",
            "                breeding pest-resistent plants.\n",
            "     </li>\n",
            "     <li>\n",
            "      <strong>\n",
            "       1941\n",
            "      </strong>\n",
            "      - Tries to enroll in the military after the Pearl Harbor attack, but is rejected.\n",
            "                Instead, the military asked his lab to work on waterproof glue, DDT to control malaria, disinfectants,\n",
            "                and other applied science.\n",
            "     </li>\n",
            "     <li>\n",
            "      <strong>\n",
            "       1942\n",
            "      </strong>\n",
            "      - Receives a Ph.D. in Genetics and Plant Pathology\n",
            "     </li>\n",
            "     <li>\n",
            "      <strong>\n",
            "       1944\n",
            "      </strong>\n",
            "      - Rejects a 100% salary increase from Dupont, leaves behind his pregnant wife, and\n",
            "                flies to Mexico to head a new plant pathology program. Over the next 16 years, his team breeds 6,000\n",
            "                different strains of disease resistent wheat - including different varieties for each major climate on\n",
            "                Earth.\n",
            "     </li>\n",
            "     <li>\n",
            "      <strong>\n",
            "       1945\n",
            "      </strong>\n",
            "      - Discovers a way to grown wheat twice each season, doubling wheat yields\n",
            "     </li>\n",
            "     <li>\n",
            "      <strong>\n",
            "       1953\n",
            "      </strong>\n",
            "      - crosses a short, sturdy dwarf breed of wheat with a high-yeidling American breed,\n",
            "                creating a strain that responds well to fertilizer. It goes on to provide 95% of Mexico's wheat.\n",
            "     </li>\n",
            "     <li>\n",
            "      <strong>\n",
            "       1962\n",
            "      </strong>\n",
            "      - Visits Delhi and brings his high-yielding strains of wheat to the Indian\n",
            "                subcontinent in time to help mitigate mass starvation due to a rapidly expanding population\n",
            "     </li>\n",
            "     <li>\n",
            "      <strong>\n",
            "       1970\n",
            "      </strong>\n",
            "      - receives the Nobel Peace Prize\n",
            "     </li>\n",
            "     <li>\n",
            "      <strong>\n",
            "       1983\n",
            "      </strong>\n",
            "      - helps seven African countries dramatically increase their maize and sorghum\n",
            "                yields\n",
            "     </li>\n",
            "     <li>\n",
            "      <strong>\n",
            "       1984\n",
            "      </strong>\n",
            "      - becomes a distinguished professor at Texas A&amp;M University\n",
            "     </li>\n",
            "     <li>\n",
            "      <strong>\n",
            "       2005\n",
            "      </strong>\n",
            "      - states \"we will have to double the world food supply by 2050.\" Argues that\n",
            "                genetically modified crops are the only way we can meet the demand, as we run out of arable land. Says\n",
            "                that GM crops are not inherently dangerous because \"we've been genetically modifying plants and animals\n",
            "                for a long time. Long before we called it science, people were selecting the best breeds.\"\n",
            "     </li>\n",
            "     <li>\n",
            "      <strong>\n",
            "       2009\n",
            "      </strong>\n",
            "      - dies at the age of 95.\n",
            "     </li>\n",
            "    </ul>\n",
            "   </div>\n",
            "  </main>\n",
            " </body>\n",
            "</html>\n"
          ]
        }
      ]
    },
    {
      "cell_type": "markdown",
      "source": [
        "**To grab the html tags**"
      ],
      "metadata": {
        "id": "17_oPyzbEzu7"
      }
    },
    {
      "cell_type": "code",
      "source": [
        "with open('TributePage.html','r') as html_file:\n",
        "  content=html_file.read()\n",
        "  soup = BeautifulSoup(content,'lxml')\n",
        "  tags= soup.find('h5') #Can use find_all() method for parent and child tags also\n",
        "  print(tags)"
      ],
      "metadata": {
        "colab": {
          "base_uri": "https://localhost:8080/"
        },
        "id": "_vnj-tB2Er0j",
        "outputId": "f64a1087-904d-43d0-bbb2-1e073082582b"
      },
      "execution_count": 7,
      "outputs": [
        {
          "output_type": "stream",
          "name": "stdout",
          "text": [
            "None\n"
          ]
        }
      ]
    },
    {
      "cell_type": "code",
      "source": [
        "with open('home.html','r') as html_file:\n",
        "  content=html_file.read()\n",
        "  soup = BeautifulSoup(content,'lxml')\n",
        "  course_html_tags = soup.find_all('h5')\n",
        "  for course in course_html_tags:\n",
        "    print(course.text)"
      ],
      "metadata": {
        "colab": {
          "base_uri": "https://localhost:8080/"
        },
        "id": "x4O4g-HwErvq",
        "outputId": "9b510ffa-1a12-4332-d538-3f65c7b6e6a8"
      },
      "execution_count": 8,
      "outputs": [
        {
          "output_type": "stream",
          "name": "stdout",
          "text": [
            "Python for beginners\n",
            "Python Web Development\n",
            "Python Machine Learning\n"
          ]
        }
      ]
    },
    {
      "cell_type": "code",
      "source": [
        "course_name=[]\n",
        "course_price=[]\n",
        "with open('home.html','r') as html_file:\n",
        "  content=html_file.read()\n",
        "  soup = BeautifulSoup(content,'lxml')\n",
        "  course_cards = soup.find_all('div',class_='card')\n",
        "  for course in course_cards:\n",
        "    course_name = course.h5.text\n",
        "    course_price = course.a.text.split()[-1]\n",
        "    print(course_name)\n",
        "    print(course_price)"
      ],
      "metadata": {
        "colab": {
          "base_uri": "https://localhost:8080/"
        },
        "id": "vCRf0biEErs6",
        "outputId": "45736aca-1a56-4048-8830-fd734a9d26ab"
      },
      "execution_count": 14,
      "outputs": [
        {
          "output_type": "stream",
          "name": "stdout",
          "text": [
            "Python for beginners\n",
            "20$\n",
            "Python Web Development\n",
            "50$\n",
            "Python Machine Learning\n",
            "100$\n"
          ]
        }
      ]
    },
    {
      "cell_type": "markdown",
      "source": [
        "**With Request Module**"
      ],
      "metadata": {
        "id": "joV9lENCKVOH"
      }
    },
    {
      "cell_type": "code",
      "source": [
        "pip install requests"
      ],
      "metadata": {
        "colab": {
          "base_uri": "https://localhost:8080/"
        },
        "id": "yn5HQoPJKaSy",
        "outputId": "d7184024-caa5-4c3d-f7f1-5a457067b766"
      },
      "execution_count": 15,
      "outputs": [
        {
          "output_type": "stream",
          "name": "stdout",
          "text": [
            "Requirement already satisfied: requests in /usr/local/lib/python3.10/dist-packages (2.31.0)\n",
            "Requirement already satisfied: charset-normalizer<4,>=2 in /usr/local/lib/python3.10/dist-packages (from requests) (3.3.0)\n",
            "Requirement already satisfied: idna<4,>=2.5 in /usr/local/lib/python3.10/dist-packages (from requests) (3.4)\n",
            "Requirement already satisfied: urllib3<3,>=1.21.1 in /usr/local/lib/python3.10/dist-packages (from requests) (2.0.6)\n",
            "Requirement already satisfied: certifi>=2017.4.17 in /usr/local/lib/python3.10/dist-packages (from requests) (2023.7.22)\n"
          ]
        }
      ]
    },
    {
      "cell_type": "code",
      "source": [
        "import requests\n",
        "import time"
      ],
      "metadata": {
        "id": "LXUqbW9qKhkI"
      },
      "execution_count": 45,
      "outputs": []
    },
    {
      "cell_type": "code",
      "source": [
        "print(\"Put some unfamiliar skills\")\n",
        "unfamiliar_skill = input('>')\n",
        "print(f\"Filtering out {unfamiliar_skill}\")\n",
        "def find_jobs():\n",
        "  html_text = requests.get('https://www.timesjobs.com/candidate/job-search.html?searchType=personalizedSearch&from=submit&txtKeywords=python&txtLocation=').text\n",
        "  soup = BeautifulSoup(html_text,'lxml')\n",
        "  jobs= soup.find_all('li',class_=\"clearfix job-bx wht-shd-bx\")\n",
        "  for index,job in enumerate(jobs):\n",
        "    job_publised=job.find('span',class_=\"sim-posted\").span.text\n",
        "    if 'few' in job_publised:\n",
        "      company_name= job.find('h3',class_=\"joblist-comp-name\").text.replace(' ','')\n",
        "      skills = job.find('span',class_=\"srp-skills\").text.replace(' ','')\n",
        "      more_info = job.header.h2.a['href']\n",
        "      if unfamiliar_skill not in skills:\n",
        "        with open(f'posts/{index}.txt','w') as f:\n",
        "          f.write(f\"Company Name:{company_name.strip()} \\n\")\n",
        "          f.write(f\"Required Skills:{skills.strip()}\\n\")\n",
        "          f.write(f\"More Info: {more_info.strip()}\")\n",
        "        print(f\"File Saved {index}\")\n",
        "        #print('')\n",
        "\n"
      ],
      "metadata": {
        "colab": {
          "base_uri": "https://localhost:8080/"
        },
        "id": "MSbUNzeVKngt",
        "outputId": "a2dc6eb4-1215-47e6-e40d-6c277aa89f82"
      },
      "execution_count": 46,
      "outputs": [
        {
          "output_type": "stream",
          "name": "stdout",
          "text": [
            "Put some unfamiliar skills\n",
            ">linux\n",
            "Filtering out linux\n"
          ]
        }
      ]
    },
    {
      "cell_type": "code",
      "source": [
        "if__name__== '__main__':\n",
        "  while True:\n",
        "    find_jobs()\n",
        "    time_wait =10\n",
        "    print(f\"Waiting for {time_wait} minutes..\")\n",
        "    time.sleep(time_wait*60)"
      ],
      "metadata": {
        "colab": {
          "base_uri": "https://localhost:8080/",
          "height": 140
        },
        "id": "2285NcZqu58n",
        "outputId": "0cb6cd0f-3f14-413b-c6ba-81e2ac20d0fc"
      },
      "execution_count": 47,
      "outputs": [
        {
          "output_type": "error",
          "ename": "SyntaxError",
          "evalue": "ignored",
          "traceback": [
            "\u001b[0;36m  File \u001b[0;32m\"<ipython-input-47-67899feb3c6f>\"\u001b[0;36m, line \u001b[0;32m1\u001b[0m\n\u001b[0;31m    if__name__=='__main__':\u001b[0m\n\u001b[0m                          ^\u001b[0m\n\u001b[0;31mSyntaxError\u001b[0m\u001b[0;31m:\u001b[0m invalid syntax\n"
          ]
        }
      ]
    },
    {
      "cell_type": "markdown",
      "source": [
        "**Adding some features in this**"
      ],
      "metadata": {
        "id": "6X7QAwBJnyJw"
      }
    },
    {
      "cell_type": "code",
      "source": [],
      "metadata": {
        "id": "JXz3W4tNnxcB"
      },
      "execution_count": null,
      "outputs": []
    },
    {
      "cell_type": "code",
      "source": [],
      "metadata": {
        "id": "fQJ1x_AMKnd6"
      },
      "execution_count": null,
      "outputs": []
    },
    {
      "cell_type": "code",
      "source": [],
      "metadata": {
        "id": "I3PetKcKKnbT"
      },
      "execution_count": null,
      "outputs": []
    },
    {
      "cell_type": "code",
      "source": [],
      "metadata": {
        "id": "lqL2mkjnKnYg"
      },
      "execution_count": null,
      "outputs": []
    }
  ]
}