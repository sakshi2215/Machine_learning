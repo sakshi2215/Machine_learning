{
  "cells": [
    {
      "cell_type": "markdown",
      "metadata": {
        "id": "view-in-github",
        "colab_type": "text"
      },
      "source": [
        "<a href=\"https://colab.research.google.com/github/sakshi2215/Machine_learning/blob/main/PCA.ipynb\" target=\"_parent\"><img src=\"https://colab.research.google.com/assets/colab-badge.svg\" alt=\"Open In Colab\"/></a>"
      ]
    },
    {
      "cell_type": "code",
      "execution_count": null,
      "metadata": {
        "id": "m3PMygwcwROG"
      },
      "outputs": [],
      "source": [
        "import numpy as np\n",
        "from sklearn.datasets import load_iris\n",
        "\n",
        "X = [2.5,0.5,2.2,1.9,3.1,2.3,2.0,1.0,1.5,1.1]\n",
        "y = [2.4,0.7,2.9,2.2,3.0,2.7,1.6,1.1,1.6,0.9]"
      ]
    },
    {
      "cell_type": "code",
      "execution_count": null,
      "metadata": {
        "colab": {
          "base_uri": "https://localhost:8080/"
        },
        "id": "Vjp6ae8lwYRC",
        "outputId": "552b2c8f-2733-4c47-bcb9-df75dbff3d41"
      },
      "outputs": [
        {
          "output_type": "stream",
          "name": "stdout",
          "text": [
            "Original array X: [2.5 0.5 2.2 1.9 3.1 2.3 2.  1.  1.5 1.1]\n",
            "Standardized array: [ 0.69 -1.31  0.39  0.09  1.29  0.49  0.19 -0.81 -0.31 -0.71]\n",
            "Original array Y: [2.4, 0.7, 2.9, 2.2, 3.0, 2.7, 1.6, 1.1, 1.6, 0.9]\n",
            "Standardized array Y: [ 0.49 -1.21  0.99  0.29  1.09  0.79 -0.31 -0.81 -0.31 -1.01]\n"
          ]
        }
      ],
      "source": [
        "X = np.array([2.5, 0.5, 2.2, 1.9, 3.1, 2.3, 2.0, 1.0, 1.5, 1.1])\n",
        "\n",
        "# Calculate the mean and standard deviation\n",
        "mean = np.mean(X)\n",
        "std_dev=1\n",
        "#std_dev = np.std(X)\n",
        "\n",
        "# Standardize the array\n",
        "standardized_X = (X - mean) / std_dev\n",
        "\n",
        "print(\"Original array X:\", X)\n",
        "print(\"Standardized array:\", standardized_X)\n",
        "\n",
        "X = np.array([2.5, 0.5, 2.2, 1.9, 3.1, 2.3, 2.0, 1.0, 1.5, 1.1])\n",
        "\n",
        "# Calculate the mean and standard deviation\n",
        "mean = np.mean(y)\n",
        "#std_dev = np.std(y)\n",
        "\n",
        "# Standardize the array\n",
        "standardized_y = (y - mean) / std_dev\n",
        "\n",
        "print(\"Original array Y:\", y)\n",
        "print(\"Standardized array Y:\", standardized_y)"
      ]
    },
    {
      "cell_type": "code",
      "execution_count": null,
      "metadata": {
        "colab": {
          "base_uri": "https://localhost:8080/"
        },
        "id": "yIl1vDHWwbxx",
        "outputId": "d9d6efcf-c3c6-4498-e6e3-f194172249c5"
      },
      "outputs": [
        {
          "output_type": "stream",
          "name": "stdout",
          "text": [
            "Covariance Matrix:\n",
            "[[0.6166 0.6154]\n",
            " [0.6154 0.7166]]\n"
          ]
        }
      ],
      "source": [
        "data = np.stack((X, y), axis=0)\n",
        "\n",
        "# Calculate the covariance matrix\n",
        "cov_matrix = np.round((np.cov(data)),4)\n",
        "\n",
        "print(\"Covariance Matrix:\")\n",
        "print(cov_matrix)"
      ]
    },
    {
      "cell_type": "code",
      "execution_count": null,
      "metadata": {
        "colab": {
          "base_uri": "https://localhost:8080/"
        },
        "id": "dgIWYVGVwe6t",
        "outputId": "d71c7492-b862-48e9-f6d2-3473ac859e2b"
      },
      "outputs": [
        {
          "output_type": "stream",
          "name": "stdout",
          "text": [
            "Sorted Eigenvalues:\n",
            "[0.0492 1.284 ]\n",
            "\n",
            "Sorted Eigenvectors:\n",
            "[[-0.735 -0.678]\n",
            " [ 0.678 -0.735]]\n"
          ]
        }
      ],
      "source": [
        "eigenvalues, eigenvectors = np.linalg.eig(cov_matrix)\n",
        "# Sort the eigenvalues and corresponding eigenvectors\n",
        "#sorted_indices = np.argsort(eigenvalues)[::-1]  # Sort indices in descending order\n",
        "#sorted_eigenvalues = eigenvalues[sorted_indices]\n",
        "#sorted_eigenvectors = eigenvectors[:, sorted_indices]\n",
        "\n",
        "# Print the sorted eigenvalues and eigenvectors\n",
        "print(\"Sorted Eigenvalues:\")\n",
        "eigenvalues=np.round(eigenvalues,4)\n",
        "print(eigenvalues)\n",
        "print(\"\\nSorted Eigenvectors:\")\n",
        "eigenvectors=np.round(eigenvectors,3)\n",
        "print(eigenvectors)"
      ]
    },
    {
      "cell_type": "code",
      "execution_count": null,
      "metadata": {
        "colab": {
          "base_uri": "https://localhost:8080/"
        },
        "id": "zj699C0owk5i",
        "outputId": "57ff94c8-c6c7-4e17-db97-359621d4bf23"
      },
      "outputs": [
        {
          "output_type": "execute_result",
          "data": {
            "text/plain": [
              "array([[-0.678],\n",
              "       [-0.735]])"
            ]
          },
          "metadata": {},
          "execution_count": 26
        }
      ],
      "source": [
        "k = 1\n",
        "principal_components = sorted_eigenvectors[:,:k]\n",
        "principal_components"
      ]
    },
    {
      "cell_type": "code",
      "execution_count": null,
      "metadata": {
        "colab": {
          "base_uri": "https://localhost:8080/"
        },
        "id": "FV_hERH1wpKY",
        "outputId": "b2de3a3c-e1f7-4fce-e902-707cba0931d6"
      },
      "outputs": [
        {
          "output_type": "stream",
          "name": "stdout",
          "text": [
            "[[-3.459 ]\n",
            " [-0.8535]\n",
            " [-3.6231]\n",
            " [-2.9052]\n",
            " [-4.3068]\n",
            " [-3.5439]\n",
            " [-2.532 ]\n",
            " [-1.4865]\n",
            " [-2.193 ]\n",
            " [-1.4073]]\n"
          ]
        }
      ],
      "source": [
        "X = [2.5,0.5,2.2,1.9,3.1,2.3,2.0,1.0,1.5,1.1]\n",
        "y = [2.4,0.7,2.9,2.2,3.0,2.7,1.6,1.1,1.6,0.9]\n",
        "# Combine X and y into a single 2D array\n",
        "data = np.column_stack((X, y))\n",
        "\n",
        "#print(\"Combined array:\")\n",
        "#print(data)\n",
        "data_new = np.dot(data, principal_components)\n",
        "print(data_new)"
      ]
    },
    {
      "cell_type": "code",
      "execution_count": null,
      "metadata": {
        "colab": {
          "base_uri": "https://localhost:8080/",
          "height": 472
        },
        "id": "amnTnA4Xwrh9",
        "outputId": "38788d0f-4ba1-4a9e-94d3-bf239402fd54"
      },
      "outputs": [
        {
          "output_type": "display_data",
          "data": {
            "text/plain": [
              "<Figure size 640x480 with 1 Axes>"
            ],
            "image/png": "[encoded data removed]"
          },
          "metadata": {}
        }
      ],
      "source": [
        "from sklearn.decomposition import PCA\n",
        "import numpy as np\n",
        "import matplotlib.pyplot as plt\n",
        "\n",
        "# Create an array with random values\n",
        "X = np.random.rand(100,5)\n",
        "\n",
        "# Fit PCA on X\n",
        "pca = PCA().fit(X)\n",
        "\n",
        "# Calculate Variance Explained\n",
        "var_exp = pca.explained_variance_ratio_\n",
        "\n",
        "# Calculate Cumulative Variance Explained\n",
        "cum_var_exp = np.cumsum(var_exp)\n",
        "\n",
        "# Plot Scree Plot\n",
        "plt.plot(range(1,len(var_exp)+1), pca.explained_variance_ratio_, 'ro-', linewidth=2)\n",
        "plt.title('Scree Plot')\n",
        "plt.xlabel('Principal Component')\n",
        "plt.ylabel('Variance Explained')\n",
        "plt.show()"
      ]
    },
    {
      "cell_type": "code",
      "source": [
        "import numpy as np\n",
        "from sklearn.datasets import load_iris\n",
        "\n",
        "X = [5,3,8,2,6,4,7,3,5,6]\n",
        "y = [7,6,9,5,8,7,9,4,8,7]"
      ],
      "metadata": {
        "id": "NteYtu52qPCR"
      },
      "execution_count": null,
      "outputs": []
    },
    {
      "cell_type": "code",
      "source": [
        "# Calculate the mean and standard deviation\n",
        "mean = np.mean(X)\n",
        "std_dev = np.std(X)\n",
        "\n",
        "# Standardize the array\n",
        "standardized_X = np.round((X - mean) / std_dev,3)\n",
        "print(std_dev)\n",
        "\n",
        "print(\"Original array X:\", X)\n",
        "print(\"Standardized array:\", standardized_X)\n",
        "\n",
        "\n",
        "# Calculate the mean and standard deviation\n",
        "mean = np.mean(y)\n",
        "std_dev = np.std(y)\n",
        "print(std_dev)\n",
        "# Standardize the array\n",
        "standardized_y = np.round((y - mean) / std_dev,3)\n",
        "\n",
        "print(\"Original array Y:\", y)\n",
        "print(\"Standardized array Y:\", standardized_y)"
      ],
      "metadata": {
        "colab": {
          "base_uri": "https://localhost:8080/"
        },
        "id": "ONPfC3os5hzu",
        "outputId": "c8d94067-036a-4edd-dba9-970792cecd9f"
      },
      "execution_count": null,
      "outputs": [
        {
          "output_type": "stream",
          "name": "stdout",
          "text": [
            "1.8138357147217055\n",
            "Original array X: [5, 3, 8, 2, 6, 4, 7, 3, 5, 6]\n",
            "Standardized array: [ 0.055 -1.048  1.709 -1.599  0.606 -0.496  1.158 -1.048  0.055  0.606]\n",
            "1.5491933384829668\n",
            "Original array Y: [7, 6, 9, 5, 8, 7, 9, 4, 8, 7]\n",
            "Standardized array Y: [ 0.    -0.645  1.291 -1.291  0.645  0.     1.291 -1.936  0.645  0.   ]\n"
          ]
        }
      ]
    },
    {
      "cell_type": "code",
      "source": [
        "data = np.stack((X, y), axis=0)\n",
        "\n",
        "# Calculate the covariance matrix\n",
        "cov_matrix = np.round((np.cov(data)),4)\n",
        "\n",
        "print(\"Covariance Matrix:\")\n",
        "print(cov_matrix)"
      ],
      "metadata": {
        "colab": {
          "base_uri": "https://localhost:8080/"
        },
        "id": "IzPWYaYe5rzw",
        "outputId": "a974bd89-d667-4b31-bd92-99e89da4b35f"
      },
      "execution_count": null,
      "outputs": [
        {
          "output_type": "stream",
          "name": "stdout",
          "text": [
            "Covariance Matrix:\n",
            "[[3.6556 2.7778]\n",
            " [2.7778 2.6667]]\n"
          ]
        }
      ]
    },
    {
      "cell_type": "code",
      "source": [
        "eigenvalues, eigenvectors = np.linalg.eig(cov_matrix)\n",
        "#Sort the eigenvalues and corresponding eigenvectors\n",
        "sorted_indices = np.argsort(eigenvalues)[::-1]  # Sort indices in descending order\n",
        "sorted_eigenvalues = eigenvalues[sorted_indices]\n",
        "sorted_eigenvectors = eigenvectors[:, sorted_indices]\n",
        "\n",
        "# Print the sorted eigenvalues and eigenvectors\n",
        "print(\"Sorted Eigenvalues:\")\n",
        "eigenvalues=np.round(eigenvalues,4)\n",
        "print(eigenvalues)\n",
        "print(\"\\nSorted Eigenvectors:\")\n",
        "eigenvectors=np.round(eigenvectors,3)\n",
        "print(eigenvectors)"
      ],
      "metadata": {
        "colab": {
          "base_uri": "https://localhost:8080/"
        },
        "id": "l-JOrRux7Lfz",
        "outputId": "e755a223-5dea-4726-e898-a831f1c6bd40"
      },
      "execution_count": null,
      "outputs": [
        {
          "output_type": "stream",
          "name": "stdout",
          "text": [
            "Sorted Eigenvalues:\n",
            "[5.9826 0.3397]\n",
            "\n",
            "Sorted Eigenvectors:\n",
            "[[ 0.767 -0.642]\n",
            " [ 0.642  0.767]]\n"
          ]
        }
      ]
    },
    {
      "cell_type": "code",
      "source": [
        "k = 1\n",
        "principal_components = np.round(sorted_eigenvectors[:,:k],3)\n",
        "principal_components"
      ],
      "metadata": {
        "colab": {
          "base_uri": "https://localhost:8080/"
        },
        "id": "7SXW5Mfc7ZDC",
        "outputId": "efce7643-e513-4a0f-defe-1f2178a0834b"
      },
      "execution_count": null,
      "outputs": [
        {
          "output_type": "execute_result",
          "data": {
            "text/plain": [
              "array([[0.767],\n",
              "       [0.642]])"
            ]
          },
          "metadata": {},
          "execution_count": 45
        }
      ]
    },
    {
      "cell_type": "code",
      "source": [
        "data = np.column_stack((standardized_X, standardized_y))\n",
        "\n",
        "#print(\"Combined array:\")\n",
        "#print(data)\n",
        "data_new = np.dot(data, principal_components)\n",
        "print(data_new)"
      ],
      "metadata": {
        "colab": {
          "base_uri": "https://localhost:8080/"
        },
        "id": "XId_fbU38TIQ",
        "outputId": "6312fe92-aaf9-4469-c511-5e911c9de7cf"
      },
      "execution_count": null,
      "outputs": [
        {
          "output_type": "stream",
          "name": "stdout",
          "text": [
            "[[ 0.042185]\n",
            " [-1.217906]\n",
            " [ 2.139625]\n",
            " [-2.055255]\n",
            " [ 0.878892]\n",
            " [-0.380432]\n",
            " [ 1.717008]\n",
            " [-2.046728]\n",
            " [ 0.456275]\n",
            " [ 0.464802]]\n"
          ]
        }
      ]
    },
    {
      "cell_type": "code",
      "source": [
        "# Step 6: Determine total variance explained\n",
        "total_variance_explained = np.sum(eigenvalues[:1]) / np.sum(eigenvalues)\n",
        "\n",
        "print(\"\\nTotal variance explained by selected principal components:\", total_variance_explained)"
      ],
      "metadata": {
        "colab": {
          "base_uri": "https://localhost:8080/"
        },
        "id": "xhf2DCLx8npj",
        "outputId": "c617c5b1-adbb-46c4-ed9c-c9aefa1a4290"
      },
      "execution_count": null,
      "outputs": [
        {
          "output_type": "stream",
          "name": "stdout",
          "text": [
            "\n",
            "Total variance explained by selected principal components: 0.9462695538016229\n"
          ]
        }
      ]
    },
    {
      "cell_type": "code",
      "source": [
        "\n"
      ],
      "metadata": {
        "id": "mE2Frl8c99yX"
      },
      "execution_count": null,
      "outputs": []
    }
  ],
  "metadata": {
    "colab": {
      "provenance": [],
      "include_colab_link": true
    },
    "kernelspec": {
      "display_name": "Python 3",
      "name": "python3"
    },
    "language_info": {
      "name": "python"
    }
  },
  "nbformat": 4,
  "nbformat_minor": 0
}